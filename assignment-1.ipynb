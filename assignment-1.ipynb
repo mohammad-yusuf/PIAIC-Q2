{
  "nbformat": 4,
  "nbformat_minor": 0,
  "metadata": {
    "colab": {
      "name": "Copy of Untitled0.ipynb",
      "provenance": [],
      "collapsed_sections": []
    },
    "kernelspec": {
      "name": "python3",
      "display_name": "Python 3"
    }
  },
  "cells": [
    {
      "cell_type": "code",
      "metadata": {
        "id": "f6cla2C7reXh"
      },
      "source": [
        "import numpy as np"
      ],
      "execution_count": null,
      "outputs": []
    },
    {
      "cell_type": "code",
      "metadata": {
        "colab": {
          "base_uri": "https://localhost:8080/"
        },
        "id": "7gNJUyFl3tvp",
        "outputId": "89a6815a-523c-478d-bfd7-b6ae70891f85"
      },
      "source": [
        "# 1. Array Assignment\r\n",
        "arr = np.array([1,2,3])\r\n",
        "print (arr)"
      ],
      "execution_count": null,
      "outputs": [
        {
          "output_type": "stream",
          "text": [
            "[1 2 3]\n"
          ],
          "name": "stdout"
        }
      ]
    },
    {
      "cell_type": "code",
      "metadata": {
        "colab": {
          "base_uri": "https://localhost:8080/"
        },
        "id": "1DUXdH7-4Adn",
        "outputId": "d5edbf11-7f66-4c6a-eef7-fc2b881db1eb"
      },
      "source": [
        "# 2. Range assignment\r\n",
        "arr2 = np.arange(10)\r\n",
        "print (arr2)"
      ],
      "execution_count": null,
      "outputs": [
        {
          "output_type": "stream",
          "text": [
            "[0 1 2 3 4 5 6 7 8 9]\n"
          ],
          "name": "stdout"
        }
      ]
    },
    {
      "cell_type": "code",
      "metadata": {
        "id": "mQ0PkGJi4lEG"
      },
      "source": [
        "# 3. Single dim array\r\n",
        "arr = np.array([1,2,3])"
      ],
      "execution_count": null,
      "outputs": []
    },
    {
      "cell_type": "code",
      "metadata": {
        "colab": {
          "base_uri": "https://localhost:8080/"
        },
        "id": "wCxhe83Z43iv",
        "outputId": "b9d99982-b501-433d-ac5f-de8d6e2104cd"
      },
      "source": [
        "#4. Two dim array\r\n",
        "arr = np.array([[1,2,3],[4,5,6]])\r\n",
        "print (arr)"
      ],
      "execution_count": null,
      "outputs": [
        {
          "output_type": "stream",
          "text": [
            "[[1 2 3]\n",
            " [4 5 6]]\n"
          ],
          "name": "stdout"
        }
      ]
    },
    {
      "cell_type": "code",
      "metadata": {
        "colab": {
          "base_uri": "https://localhost:8080/"
        },
        "id": "Rl4miaeR5GIl",
        "outputId": "bb85cca7-ebb9-4c41-ae37-9054df3ba220"
      },
      "source": [
        "#5. Three dim array\r\n",
        "arr = np.array([[1,2,3],[4,5,6],[7,8,9]])\r\n",
        "print (arr)"
      ],
      "execution_count": null,
      "outputs": [
        {
          "output_type": "stream",
          "text": [
            "[[1 2 3]\n",
            " [4 5 6]\n",
            " [7 8 9]]\n"
          ],
          "name": "stdout"
        }
      ]
    },
    {
      "cell_type": "code",
      "metadata": {
        "colab": {
          "base_uri": "https://localhost:8080/"
        },
        "id": "3442b8sI5NNo",
        "outputId": "daa343b9-328c-4342-9055-237fc19ca7b0"
      },
      "source": [
        "#6 Array size\r\n",
        "arr.size"
      ],
      "execution_count": null,
      "outputs": [
        {
          "output_type": "execute_result",
          "data": {
            "text/plain": [
              "9"
            ]
          },
          "metadata": {
            "tags": []
          },
          "execution_count": 26
        }
      ]
    },
    {
      "cell_type": "code",
      "metadata": {
        "colab": {
          "base_uri": "https://localhost:8080/"
        },
        "id": "bG86puS26jty",
        "outputId": "cbc0a27b-e06a-47e9-908f-e7627c78e140"
      },
      "source": [
        "#7 Array shape\r\n",
        "arr.shape"
      ],
      "execution_count": null,
      "outputs": [
        {
          "output_type": "execute_result",
          "data": {
            "text/plain": [
              "(3, 3)"
            ]
          },
          "metadata": {
            "tags": []
          },
          "execution_count": 27
        }
      ]
    },
    {
      "cell_type": "code",
      "metadata": {
        "colab": {
          "base_uri": "https://localhost:8080/"
        },
        "id": "mmk26A3T6oop",
        "outputId": "261896a9-581c-4d39-95b7-a665f9d5da0f"
      },
      "source": [
        "#8 Array dim\r\n",
        "arr.ndim"
      ],
      "execution_count": null,
      "outputs": [
        {
          "output_type": "execute_result",
          "data": {
            "text/plain": [
              "2"
            ]
          },
          "metadata": {
            "tags": []
          },
          "execution_count": 28
        }
      ]
    },
    {
      "cell_type": "code",
      "metadata": {
        "colab": {
          "base_uri": "https://localhost:8080/",
          "height": 35
        },
        "id": "y4x08IX86vp6",
        "outputId": "697d3083-ba08-40c9-9202-c6804da322c0"
      },
      "source": [
        "#9 Array type\r\n",
        "arr.dtype.name"
      ],
      "execution_count": null,
      "outputs": [
        {
          "output_type": "execute_result",
          "data": {
            "application/vnd.google.colaboratory.intrinsic+json": {
              "type": "string"
            },
            "text/plain": [
              "'int64'"
            ]
          },
          "metadata": {
            "tags": []
          },
          "execution_count": 30
        }
      ]
    },
    {
      "cell_type": "code",
      "metadata": {
        "colab": {
          "base_uri": "https://localhost:8080/"
        },
        "id": "2-QkyMAs68o-",
        "outputId": "0604e262-3a1e-4bee-d327-0e70e90e66c5"
      },
      "source": [
        "#10 array type declaration. Complex number array\r\n",
        "arr2 = np.array([1,2], dtype=complex)\r\n",
        "print(arr2)"
      ],
      "execution_count": null,
      "outputs": [
        {
          "output_type": "stream",
          "text": [
            "[1.+0.j 2.+0.j]\n"
          ],
          "name": "stdout"
        }
      ]
    },
    {
      "cell_type": "code",
      "metadata": {
        "colab": {
          "base_uri": "https://localhost:8080/"
        },
        "id": "eDf2qS7O7Vgl",
        "outputId": "4a1ac9eb-ac9c-49df-e49f-073a1e196a5f"
      },
      "source": [
        "#11 arraty type declaration.  Floating point number array\r\n",
        "arr2 = np.array([1,2], dtype=float)\r\n",
        "print(arr2)"
      ],
      "execution_count": null,
      "outputs": [
        {
          "output_type": "stream",
          "text": [
            "[1. 2.]\n"
          ],
          "name": "stdout"
        }
      ]
    },
    {
      "cell_type": "code",
      "metadata": {
        "colab": {
          "base_uri": "https://localhost:8080/"
        },
        "id": "jCgOm56r7nPt",
        "outputId": "41309f4d-7eaf-48e8-ccce-692b21d7013c"
      },
      "source": [
        "#12 Zero filled\r\n",
        "arr2 = np.zeros((2,3))\r\n",
        "print(arr2)"
      ],
      "execution_count": null,
      "outputs": [
        {
          "output_type": "stream",
          "text": [
            "[[0. 0. 0.]\n",
            " [0. 0. 0.]]\n"
          ],
          "name": "stdout"
        }
      ]
    },
    {
      "cell_type": "code",
      "metadata": {
        "colab": {
          "base_uri": "https://localhost:8080/"
        },
        "id": "UehrCkk270Mz",
        "outputId": "eff54131-1641-4262-8a4f-0231fd43e03e"
      },
      "source": [
        "#13 Ones filled array with datatype\r\n",
        "arr2 = np.ones( (2,3), dtype=np.int16)\r\n",
        "print(arr2)"
      ],
      "execution_count": null,
      "outputs": [
        {
          "output_type": "stream",
          "text": [
            "[[1 1 1]\n",
            " [1 1 1]]\n"
          ],
          "name": "stdout"
        }
      ]
    },
    {
      "cell_type": "code",
      "metadata": {
        "colab": {
          "base_uri": "https://localhost:8080/"
        },
        "id": "Q8acfpKM8QTV",
        "outputId": "f2e735df-4eeb-4d3b-87ad-4a5b394bc9fc"
      },
      "source": [
        "#14 empty array init\r\n",
        "arr2 = np.empty( (2,3))\r\n",
        "print(arr2)"
      ],
      "execution_count": null,
      "outputs": [
        {
          "output_type": "stream",
          "text": [
            "[[0. 0. 0.]\n",
            " [0. 0. 0.]]\n"
          ],
          "name": "stdout"
        }
      ]
    },
    {
      "cell_type": "code",
      "metadata": {
        "colab": {
          "base_uri": "https://localhost:8080/"
        },
        "id": "ukHYPvcU8a4m",
        "outputId": "54655049-3faf-44d3-ba46-88c432d9b689"
      },
      "source": [
        "#15 range\r\n",
        "np.arange(1, 10,1)\r\n"
      ],
      "execution_count": null,
      "outputs": [
        {
          "output_type": "execute_result",
          "data": {
            "text/plain": [
              "array([1, 2, 3, 4, 5, 6, 7, 8, 9])"
            ]
          },
          "metadata": {
            "tags": []
          },
          "execution_count": 41
        }
      ]
    },
    {
      "cell_type": "code",
      "metadata": {
        "colab": {
          "base_uri": "https://localhost:8080/"
        },
        "id": "FW7sTaaP9Qln",
        "outputId": "945c5f1c-7066-4f2d-c40f-8271dff71ee3"
      },
      "source": [
        "#16 print\r\n",
        "print(arr2)"
      ],
      "execution_count": null,
      "outputs": [
        {
          "output_type": "stream",
          "text": [
            "[[0. 0. 0.]\n",
            " [0. 0. 0.]]\n"
          ],
          "name": "stdout"
        }
      ]
    },
    {
      "cell_type": "code",
      "metadata": {
        "colab": {
          "base_uri": "https://localhost:8080/"
        },
        "id": "jMrOoVAH9Y7u",
        "outputId": "7512d42a-9983-46e4-8846-73b10093bdb2"
      },
      "source": [
        "#17 Reshape\r\n",
        "arr2 = np.arange(0,10,1)\r\n",
        "print(arr2)\r\n",
        "print(arr2.reshape(2,5))"
      ],
      "execution_count": null,
      "outputs": [
        {
          "output_type": "stream",
          "text": [
            "[0 1 2 3 4 5 6 7 8 9]\n",
            "[[0 1 2 3 4]\n",
            " [5 6 7 8 9]]\n"
          ],
          "name": "stdout"
        }
      ]
    },
    {
      "cell_type": "code",
      "metadata": {
        "colab": {
          "base_uri": "https://localhost:8080/"
        },
        "id": "dsTWpjEl-hEJ",
        "outputId": "ae3ccfa6-6bbc-4d5a-dba4-ad4e1877b7a9"
      },
      "source": [
        "#18 multiply\r\n",
        "arr2 = np.array([1,2,3])\r\n",
        "arr3 = arr2*2\r\n",
        "print(arr3)"
      ],
      "execution_count": null,
      "outputs": [
        {
          "output_type": "stream",
          "text": [
            "[2 4 6]\n"
          ],
          "name": "stdout"
        }
      ]
    },
    {
      "cell_type": "code",
      "metadata": {
        "colab": {
          "base_uri": "https://localhost:8080/"
        },
        "id": "jEvKcEke-0cj",
        "outputId": "ddc5736b-77c0-4cab-d506-1f29d51001b3"
      },
      "source": [
        "#19 trignometry\r\n",
        "arr3 = np.sin(arr2)\r\n",
        "print(arr3)"
      ],
      "execution_count": null,
      "outputs": [
        {
          "output_type": "stream",
          "text": [
            "[0.84147098 0.90929743 0.14112001]\n"
          ],
          "name": "stdout"
        }
      ]
    },
    {
      "cell_type": "code",
      "metadata": {
        "colab": {
          "base_uri": "https://localhost:8080/"
        },
        "id": "HVHZJS-f_DJM",
        "outputId": "61327f6e-823a-458f-9de2-fb10dbf1d8a9"
      },
      "source": [
        "#20 trignometry\r\n",
        "arr3 = np.cos(arr2)\r\n",
        "print(arr3)"
      ],
      "execution_count": null,
      "outputs": [
        {
          "output_type": "stream",
          "text": [
            "[ 0.54030231 -0.41614684 -0.9899925 ]\n"
          ],
          "name": "stdout"
        }
      ]
    },
    {
      "cell_type": "code",
      "metadata": {
        "colab": {
          "base_uri": "https://localhost:8080/"
        },
        "id": "t6ABCIHH_I4e",
        "outputId": "6bc5b78a-59fc-4586-d226-1164ff8c5550"
      },
      "source": [
        "#21 trignometry\r\n",
        "arr3 = np.tan(arr2)\r\n",
        "print(arr3)"
      ],
      "execution_count": null,
      "outputs": [
        {
          "output_type": "stream",
          "text": [
            "[ 1.55740772 -2.18503986 -0.14254654]\n"
          ],
          "name": "stdout"
        }
      ]
    },
    {
      "cell_type": "code",
      "metadata": {
        "colab": {
          "base_uri": "https://localhost:8080/"
        },
        "id": "TpPxhAqt_C3j",
        "outputId": "26277000-3d09-4207-e565-5409c373e943"
      },
      "source": [
        "#22 arrap ops\r\n",
        "a = np.array([1,2,3])\r\n",
        "b = np.array([1,2,3])\r\n",
        "print(a*b)"
      ],
      "execution_count": null,
      "outputs": [
        {
          "output_type": "stream",
          "text": [
            "[1 4 9]\n"
          ],
          "name": "stdout"
        }
      ]
    },
    {
      "cell_type": "code",
      "metadata": {
        "colab": {
          "base_uri": "https://localhost:8080/"
        },
        "id": "FZRH81rI_kD8",
        "outputId": "2f83003a-c40a-43ec-ed1b-04d4200173a2"
      },
      "source": [
        "#23 arrap ops\r\n",
        "a = np.array([1,2,3])\r\n",
        "b = np.array([1,2,3])\r\n",
        "print(a+b)"
      ],
      "execution_count": null,
      "outputs": [
        {
          "output_type": "stream",
          "text": [
            "[2 4 6]\n"
          ],
          "name": "stdout"
        }
      ]
    },
    {
      "cell_type": "code",
      "metadata": {
        "colab": {
          "base_uri": "https://localhost:8080/"
        },
        "id": "jU69o-5k_oVS",
        "outputId": "540a602c-0ebf-46d0-97ae-a363277fc84a"
      },
      "source": [
        "#24 sum of elements\r\n",
        "print(a.sum())"
      ],
      "execution_count": null,
      "outputs": [
        {
          "output_type": "stream",
          "text": [
            "6\n"
          ],
          "name": "stdout"
        }
      ]
    },
    {
      "cell_type": "code",
      "metadata": {
        "colab": {
          "base_uri": "https://localhost:8080/"
        },
        "id": "d4HQNafL_63h",
        "outputId": "716a8c27-ea4c-4e55-8987-5b259d9002f8"
      },
      "source": [
        "#25 MAx od elements\r\n",
        "print(max(a))"
      ],
      "execution_count": null,
      "outputs": [
        {
          "output_type": "stream",
          "text": [
            "3\n"
          ],
          "name": "stdout"
        }
      ]
    },
    {
      "cell_type": "code",
      "metadata": {
        "colab": {
          "base_uri": "https://localhost:8080/"
        },
        "id": "ozmHcJdlAD7n",
        "outputId": "d373bd71-3679-439c-c054-446084a85549"
      },
      "source": [
        "#26 Min od elements\r\n",
        "print(min(a))"
      ],
      "execution_count": null,
      "outputs": [
        {
          "output_type": "stream",
          "text": [
            "1\n"
          ],
          "name": "stdout"
        }
      ]
    },
    {
      "cell_type": "code",
      "metadata": {
        "colab": {
          "base_uri": "https://localhost:8080/"
        },
        "id": "0CNNcnT1ALks",
        "outputId": "52b2deaa-1da3-4ffc-b55d-fab11dcf9d7e"
      },
      "source": [
        "#27 index\r\n",
        "print(arr2[1])"
      ],
      "execution_count": null,
      "outputs": [
        {
          "output_type": "stream",
          "text": [
            "2\n"
          ],
          "name": "stdout"
        }
      ]
    },
    {
      "cell_type": "code",
      "metadata": {
        "colab": {
          "base_uri": "https://localhost:8080/"
        },
        "id": "Yqb2T3G2Az2f",
        "outputId": "70198552-1fa8-4282-82df-869241439a3d"
      },
      "source": [
        "#28 index range\r\n",
        "a = np.arange(1,10,1)\r\n",
        "print(a[2:5])"
      ],
      "execution_count": null,
      "outputs": [
        {
          "output_type": "stream",
          "text": [
            "[3 4 5]\n"
          ],
          "name": "stdout"
        }
      ]
    },
    {
      "cell_type": "code",
      "metadata": {
        "colab": {
          "base_uri": "https://localhost:8080/"
        },
        "id": "tUGwQgANBrsh",
        "outputId": "bbf089c0-78cc-4926-9b4d-c616efd05e3f"
      },
      "source": [
        "#29 splitting\r\n",
        "a = np.arange(1,10,1)\r\n",
        "print(np.hsplit(a,3))"
      ],
      "execution_count": null,
      "outputs": [
        {
          "output_type": "stream",
          "text": [
            "[array([1, 2, 3]), array([4, 5, 6]), array([7, 8, 9])]\n"
          ],
          "name": "stdout"
        }
      ]
    },
    {
      "cell_type": "code",
      "metadata": {
        "colab": {
          "base_uri": "https://localhost:8080/"
        },
        "id": "pCzVL1ZBB45B",
        "outputId": "2878dbcd-307f-4af2-feb5-d84505441de6"
      },
      "source": [
        "#30 splitting\r\n",
        "a = np.arange(1,10,1)\r\n",
        "print(np.hsplit(a,(2,3)))"
      ],
      "execution_count": null,
      "outputs": [
        {
          "output_type": "stream",
          "text": [
            "[array([1, 2]), array([3]), array([4, 5, 6, 7, 8, 9])]\n"
          ],
          "name": "stdout"
        }
      ]
    },
    {
      "cell_type": "code",
      "metadata": {
        "colab": {
          "base_uri": "https://localhost:8080/"
        },
        "id": "UYnrKAZXCHvr",
        "outputId": "de514a0f-03d6-4541-aee4-a06031e9e522"
      },
      "source": [
        "#31 copy\r\n",
        "b=a\r\n",
        "print(b)"
      ],
      "execution_count": null,
      "outputs": [
        {
          "output_type": "stream",
          "text": [
            "[1 2 3 4 5 6 7 8 9]\n"
          ],
          "name": "stdout"
        }
      ]
    },
    {
      "cell_type": "code",
      "metadata": {
        "colab": {
          "base_uri": "https://localhost:8080/"
        },
        "id": "s8DlKUFNCSR0",
        "outputId": "9c1f4621-8719-4277-e917-da386c186adb"
      },
      "source": [
        "#32 copy status\r\n",
        "b=a\r\n",
        "print(b is a)"
      ],
      "execution_count": null,
      "outputs": [
        {
          "output_type": "stream",
          "text": [
            "True\n"
          ],
          "name": "stdout"
        }
      ]
    },
    {
      "cell_type": "code",
      "metadata": {
        "id": "YvH7M74ECXkL"
      },
      "source": [
        ""
      ],
      "execution_count": null,
      "outputs": []
    }
  ]
}